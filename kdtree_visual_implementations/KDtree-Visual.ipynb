{
 "cells": [
  {
   "cell_type": "code",
   "execution_count": 1,
   "id": "de8cd838",
   "metadata": {},
   "outputs": [],
   "source": [
    "import pandas as pd\n",
    "import random"
   ]
  },
  {
   "cell_type": "code",
   "execution_count": 2,
   "id": "87c6b734",
   "metadata": {},
   "outputs": [],
   "source": [
    "# Import data, retrieve only coordinate information\n",
    "\n",
    "# data = pd.read_csv('house_chunked_random.csv', sep=',')[['X', 'Y', 'Z']]\n",
    "data = pd.read_csv('house_chunked_spatial.csv', sep=',')[['X', 'Y', 'Z']]"
   ]
  },
  {
   "cell_type": "code",
   "execution_count": 3,
   "id": "cd34cde8",
   "metadata": {},
   "outputs": [],
   "source": [
    "control_depth = 7"
   ]
  },
  {
   "cell_type": "code",
   "execution_count": 4,
   "id": "0c096a69",
   "metadata": {},
   "outputs": [],
   "source": [
    "# Function that creates unique id\n",
    "node_ids = set()\n",
    "def generate_node_id(node_ids):\n",
    "    new_id = random.randint(1, 1e5)\n",
    "    while new_id in node_ids:\n",
    "        new_id = random.randint(1, 1e5)\n",
    "    node_ids.add(new_id)\n",
    "    return new_id"
   ]
  },
  {
   "cell_type": "code",
   "execution_count": 5,
   "id": "e489e96f",
   "metadata": {},
   "outputs": [],
   "source": [
    "# Node structure for k-d tree\n",
    "class Node:\n",
    "    def __init__(self, point, id, depth, left=None, right=None):\n",
    "        self.point = point\n",
    "        self.id = id\n",
    "        self.depth = depth\n",
    "        self.left = left\n",
    "        self.right = right"
   ]
  },
  {
   "cell_type": "code",
   "execution_count": 6,
   "id": "882b70f7",
   "metadata": {},
   "outputs": [],
   "source": [
    "# Adjust the build_kdtree function to limit depth\n",
    "\n",
    "def build_kdtree(points, depth=0, max_depth=control_depth):\n",
    "    if not points or depth >= max_depth:  # Stop building more levels after reaching max_depth\n",
    "        return None\n",
    "\n",
    "    k = len(points[0]) - 1  # Assuming the last column is the point ID\n",
    "    axis = depth % k\n",
    "\n",
    "    points.sort(key=lambda x: x[axis])\n",
    "    median = len(points) // 2\n",
    "    node_id = generate_node_id(node_ids)\n",
    "\n",
    "    return Node(\n",
    "        point=points[median][:-1],\n",
    "        id=points[median][-1],\n",
    "        depth=depth,\n",
    "        left=build_kdtree(points[:median], depth + 1, max_depth),\n",
    "        right=build_kdtree(points[median + 1:], depth + 1, max_depth)\n",
    "    )"
   ]
  },
  {
   "cell_type": "code",
   "execution_count": 7,
   "id": "21c773ff",
   "metadata": {},
   "outputs": [],
   "source": [
    "# Adjust the traverse_kdtree function to consider the depth limit\n",
    "\n",
    "def traverse_kdtree(node, nodes=[], edges=[], degree_count={}, depth=0, max_depth=control_depth):\n",
    "    if node and depth < max_depth:\n",
    "        nodes.append({'Id': node.id, 'Depth': node.depth})\n",
    "        degree_count[node.id] = degree_count.get(node.id, 0)\n",
    "\n",
    "        if node.left:\n",
    "            edges.append({'Source': node.id, 'Target': node.left.id, 'Type': 'Directed'})\n",
    "            degree_count[node.id] += 1\n",
    "            traverse_kdtree(node.left, nodes, edges, degree_count, depth + 1, max_depth)\n",
    "\n",
    "        if node.right:\n",
    "            edges.append({'Source': node.id, 'Target': node.right.id, 'Type': 'Directed'})\n",
    "            degree_count[node.id] += 1\n",
    "            traverse_kdtree(node.right, nodes, edges, degree_count, depth + 1, max_depth)\n",
    "\n",
    "    return nodes, edges, degree_count"
   ]
  },
  {
   "cell_type": "code",
   "execution_count": 8,
   "id": "c8001e61",
   "metadata": {},
   "outputs": [],
   "source": [
    "# Main function to build k-d tree and output CSV files including node degrees\n",
    "points_with_id = data.assign(Id=data.index).values.tolist()\n",
    "kdtree = build_kdtree(points_with_id)\n",
    "nodes_data, edges_data, degree_count = traverse_kdtree(kdtree)\n",
    "nodes_df = pd.DataFrame(nodes_data)\n",
    "edges_df = pd.DataFrame(edges_data)\n",
    "\n",
    "# Apply degree information and reorder columns\n",
    "nodes_df['Degree'] = nodes_df['Id'].apply(lambda x: degree_count.get(x, 0))\n",
    "nodes_df = nodes_df[['Id', 'Degree', 'Depth']]\n",
    "\n",
    "nodes_df.to_csv('node.csv', index=False)\n",
    "edges_df.to_csv('edge.csv', index=False)"
   ]
  },
  {
   "cell_type": "code",
   "execution_count": null,
   "id": "d84f32f4",
   "metadata": {},
   "outputs": [],
   "source": []
  }
 ],
 "metadata": {
  "kernelspec": {
   "display_name": "Python 3 (ipykernel)",
   "language": "python",
   "name": "python3"
  },
  "language_info": {
   "codemirror_mode": {
    "name": "ipython",
    "version": 3
   },
   "file_extension": ".py",
   "mimetype": "text/x-python",
   "name": "python",
   "nbconvert_exporter": "python",
   "pygments_lexer": "ipython3",
   "version": "3.11.4"
  }
 },
 "nbformat": 4,
 "nbformat_minor": 5
}
