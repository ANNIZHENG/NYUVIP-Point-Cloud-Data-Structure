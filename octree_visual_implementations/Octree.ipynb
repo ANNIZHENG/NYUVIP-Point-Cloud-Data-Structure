{
 "cells": [
  {
   "cell_type": "code",
   "execution_count": 1,
   "id": "5991bc42",
   "metadata": {},
   "outputs": [],
   "source": [
    "import numpy as np\n",
    "import pandas as pd\n",
    "import random\n",
    "import math\n",
    "import csv"
   ]
  },
  {
   "cell_type": "markdown",
   "id": "0247139d",
   "metadata": {},
   "source": [
    "### Octree Visualization Implementation"
   ]
  },
  {
   "cell_type": "code",
   "execution_count": 4,
   "id": "f6039b62",
   "metadata": {},
   "outputs": [
    {
     "name": "stdout",
     "output_type": "stream",
     "text": [
      "523\n"
     ]
    }
   ],
   "source": [
    "# import raw data\n",
    "\n",
    "data_raw = pd.read_csv('lightpole.csv', sep=',', header=None)\n",
    "\n",
    "# data_raw = pd.read_csv('house_random.csv', sep=',', header=None)\n",
    "# data_raw = pd.read_csv('house_distance.csv', sep=',', header=None)\n",
    "\n",
    "# data_raw = pd.read_csv('tree_random.csv', sep=',', header=None)\n",
    "# data_raw = pd.read_csv('tree_distance.csv', sep=',', header=None)\n",
    "\n",
    "# convert to np array\n",
    "\n",
    "data = np.array(data_raw)\n",
    "\n",
    "print(len(data))"
   ]
  },
  {
   "cell_type": "code",
   "execution_count": 39,
   "id": "e7262530",
   "metadata": {},
   "outputs": [],
   "source": [
    "# used to create an edge.csv for gephi to visualize network\n",
    "# format: Target, Source, Type:Directed\n",
    "edge = []\n",
    "\n",
    "# used to create a node.csv for gephi to understand depth\n",
    "# format: Id, Label:Id, Depth\n",
    "node = []"
   ]
  },
  {
   "cell_type": "code",
   "execution_count": 40,
   "id": "e3729704",
   "metadata": {},
   "outputs": [],
   "source": [
    "# this is a function for creating unique id for each node\n",
    "\n",
    "node_ids = set()\n",
    "\n",
    "def generate_node_id(node_ids):\n",
    "    new_id = random.randint(1, 1e5)\n",
    "    while new_id in node_ids:\n",
    "        new_id = random.randint(1, 1e5)\n",
    "    node_ids.add(new_id)\n",
    "    return new_id"
   ]
  },
  {
   "cell_type": "code",
   "execution_count": 41,
   "id": "de419617",
   "metadata": {},
   "outputs": [],
   "source": [
    "# this is a conventional octree careless about the efficiency of data retrieval\n",
    "# i.e., there is no implementation of the algorithm that determines the most optimal way to create octants\n",
    "\n",
    "def visualize_octree(data,source_id, depth):\n",
    "    num_point = len(data)\n",
    "    \n",
    "    # create a new id for each node\n",
    "    global node_ids\n",
    "    target_id = generate_node_id(node_ids)\n",
    "    \n",
    "    # create one row representing a node in the octree network\n",
    "    global edge\n",
    "    global node\n",
    "    edge.append([source_id, target_id, 'Directed'])\n",
    "    node.append([target_id, target_id, depth])\n",
    "    \n",
    "    \n",
    "    if num_point <= 1:\n",
    "        # Base case\n",
    "        return # would fill up the edge array\n",
    "    elif num_point <= 8:\n",
    "        # If there are 8 or fewer points, each would occupy an octant\n",
    "        for i in range(num_point):\n",
    "            visualize_octree(data[i:i+1], target_id, depth + 1)\n",
    "    else:\n",
    "        # Divide the data into 8 octants\n",
    "        num_point_per_octant = math.floor(num_point / 8)\n",
    "        count = 0\n",
    "        for i in range(0, num_point, num_point_per_octant):\n",
    "            count = count + 1 \n",
    "            if count >= 8:\n",
    "                visualize_octree(data[i : num_point], target_id, depth + 1)\n",
    "                break # break the for loop\n",
    "            else:\n",
    "                visualize_octree(data[i : i + num_point_per_octant], target_id, depth + 1)"
   ]
  },
  {
   "cell_type": "code",
   "execution_count": 42,
   "id": "47b3b9f9",
   "metadata": {},
   "outputs": [],
   "source": [
    "visualize_octree(data, float('nan'), 0)"
   ]
  },
  {
   "cell_type": "code",
   "execution_count": 43,
   "id": "03835d85",
   "metadata": {},
   "outputs": [],
   "source": [
    "# this part is for gephi visualization if size map is applied\n",
    "# node['Depth'] = abs(node['Depth'] - max(node['Depth']))\n",
    "\n",
    "# edge_header = ['Source', 'Target', 'Type']\n",
    "# with open('edge.csv', 'w', newline='') as file:\n",
    "#     writer = csv.writer(file)\n",
    "#     writer.writerow(edge_header)\n",
    "#     writer.writerows(edge[1:])\n",
    "\n",
    "# node_header = ['Id', 'Label', 'Depth']\n",
    "# with open('node.csv', 'w', newline='') as file:\n",
    "#     writer = csv.writer(file)\n",
    "#     writer.writerow(node_header)\n",
    "#     writer.writerows(node)\n",
    "\n",
    "pd.DataFrame(edge).to_csv('edge.csv', index=False)\n",
    "pd.DataFrame(node).to_csv('node.csv', index=False)"
   ]
  },
  {
   "cell_type": "markdown",
   "id": "f046f7a2",
   "metadata": {},
   "source": [
    "### Octree Label Implementation\n",
    "\n",
    "V = (x_max - x_min) * (y_max - y_min) * (z_max - z_min)\n",
    "\n",
    "N = number of points\n",
    "\n",
    "Density = N/V"
   ]
  },
  {
   "cell_type": "code",
   "execution_count": 12,
   "id": "de7f8b89",
   "metadata": {},
   "outputs": [],
   "source": [
    "data2 = pd.read_csv('NYUVIP-Point-Cloud-Data-Structure/octree_visual_implementations/Tree/Reduced_By_Distance/node.csv', sep=',')"
   ]
  },
  {
   "cell_type": "code",
   "execution_count": 13,
   "id": "87665dbe",
   "metadata": {},
   "outputs": [
    {
     "data": {
      "text/plain": [
       "3    400\n",
       "2     64\n",
       "4     24\n",
       "1      8\n",
       "0      1\n",
       "Name: Depth, dtype: int64"
      ]
     },
     "execution_count": 13,
     "metadata": {},
     "output_type": "execute_result"
    }
   ],
   "source": [
    "data2['Depth'].value_counts()"
   ]
  },
  {
   "cell_type": "code",
   "execution_count": null,
   "id": "044de484",
   "metadata": {},
   "outputs": [],
   "source": []
  }
 ],
 "metadata": {
  "kernelspec": {
   "display_name": "Python 3 (ipykernel)",
   "language": "python",
   "name": "python3"
  },
  "language_info": {
   "codemirror_mode": {
    "name": "ipython",
    "version": 3
   },
   "file_extension": ".py",
   "mimetype": "text/x-python",
   "name": "python",
   "nbconvert_exporter": "python",
   "pygments_lexer": "ipython3",
   "version": "3.11.4"
  }
 },
 "nbformat": 4,
 "nbformat_minor": 5
}
